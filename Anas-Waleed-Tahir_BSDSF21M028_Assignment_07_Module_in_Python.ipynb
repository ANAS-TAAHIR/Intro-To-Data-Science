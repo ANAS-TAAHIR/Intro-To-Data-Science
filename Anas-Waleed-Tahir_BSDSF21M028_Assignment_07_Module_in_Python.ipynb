{
 "cells": [
  {
   "cell_type": "markdown",
   "id": "779a9769",
   "metadata": {},
   "source": [
    "### Assignment-07 (Module_in_Python)\n",
    "- Change the notebook name with your name and Roll Number.\n",
    "- Try this as your own, no chatgpt (it's for your learning)\n",
    "- after completing the assignment, submit this book on google class room."
   ]
  },
  {
   "cell_type": "markdown",
   "id": "46e7a5c0",
   "metadata": {},
   "source": [
    "Explain the difference between import module and from module import *. Provide an example for each.\n"
   ]
  },
  {
   "cell_type": "markdown",
   "id": "3e218580",
   "metadata": {},
   "source": [
    "## Solution\n",
    "`import module` statement imports all the classes, functions, and variables of a module into the current namespace. To access the module members, you need to use the module name followed by a dot and the member name. like:\n",
    "```python\n",
    "import math\n",
    "print(math.pi)\n",
    "```\n",
    "\n",
    "`from module import *` statement imports all the classes, functions, and variables of a module into the current namespace. To access the module members, you don't need to use the module name followed by a dot and the member name. like:\n",
    "```python\n",
    "from math import *\n",
    "print(pi)\n",
    "```\n",
    "\n",
    "`from module import member1, member2` statement imports only the specified members of a module into the current namespace. To access the module members, you don't need to use the module name followed by a dot and the member name. like:\n",
    "```python\n",
    "from math import pi, e\n",
    "print(pi)\n",
    "print(e)\n",
    "```"
   ]
  },
  {
   "cell_type": "markdown",
   "id": "935bbfe7",
   "metadata": {},
   "source": [
    "What is an alias, and how can it be used while importing a module? Provide an example.\n"
   ]
  },
  {
   "cell_type": "markdown",
   "id": "944a369c",
   "metadata": {},
   "source": [
    "Alias is an alternate name for a module, class, or function. It is used to avoid name conflicts and to make the code more readable. You can create an alias for a module, class, or function using the `as` keyword. like:\n",
    "```python\n",
    "import math as m\n",
    "print(m.pi)\n",
    "```\n"
   ]
  },
  {
   "cell_type": "markdown",
   "id": "1e1d37c8",
   "metadata": {},
   "source": [
    "Demonstrate the use of the importlib module to import a module dynamically."
   ]
  },
  {
   "cell_type": "code",
   "execution_count": 2,
   "id": "cd334b12",
   "metadata": {},
   "outputs": [
    {
     "name": "stdout",
     "output_type": "stream",
     "text": [
      "4.0\n",
      "3.141592653589793\n",
      "2.718281828459045\n"
     ]
    }
   ],
   "source": [
    "import importlib\n",
    "\n",
    "math = importlib.import_module('math')\n",
    "print(math.sqrt(16))\n",
    "print(math.pi)\n",
    "print(math.e)\n"
   ]
  },
  {
   "cell_type": "markdown",
   "id": "520b6194",
   "metadata": {},
   "source": [
    "Implement a function that takes an angle in degrees and converts it to radians using the math module."
   ]
  },
  {
   "cell_type": "code",
   "execution_count": 3,
   "id": "944626ba",
   "metadata": {},
   "outputs": [
    {
     "name": "stdout",
     "output_type": "stream",
     "text": [
      "1.5707963267948966\n"
     ]
    }
   ],
   "source": [
    "def convert_to_radians(angle):\n",
    "    return angle * math.pi / 180\n",
    "\n",
    "print(convert_to_radians(90))"
   ]
  },
  {
   "cell_type": "markdown",
   "id": "b81395fe",
   "metadata": {},
   "source": [
    "Create a program that simulates the rolling of a six-sided die using the random module."
   ]
  },
  {
   "cell_type": "code",
   "execution_count": 4,
   "id": "f5698b8a",
   "metadata": {},
   "outputs": [
    {
     "name": "stdout",
     "output_type": "stream",
     "text": [
      "3\n",
      "4\n",
      "6\n",
      "1\n"
     ]
    }
   ],
   "source": [
    "from random import randint\n",
    "def roll_dice():\n",
    "    return randint(1, 6)\n",
    "print(roll_dice())\n",
    "print(roll_dice())\n",
    "print(roll_dice())\n",
    "print(roll_dice())"
   ]
  },
  {
   "cell_type": "markdown",
   "id": "aefd02a7",
   "metadata": {},
   "source": [
    "Implement a timer function that measures the execution time of a piece of code using the time module."
   ]
  },
  {
   "cell_type": "code",
   "execution_count": 9,
   "id": "b779c39c",
   "metadata": {},
   "outputs": [
    {
     "name": "stdout",
     "output_type": "stream",
     "text": [
      "Execution time: 0.9695377349853516\n"
     ]
    }
   ],
   "source": [
    "from time import time, sleep\n",
    "def timer(func):\n",
    "    def wrapper():\n",
    "        start = time()\n",
    "        func()\n",
    "        end = time()\n",
    "        print('Execution time:', end - start)\n",
    "    return wrapper\n",
    "\n",
    "def run_loop():\n",
    "    for i in range(10000000):\n",
    "        pass\n",
    "\n",
    "time_taken = timer(run_loop)\n",
    "time_taken()"
   ]
  },
  {
   "cell_type": "markdown",
   "id": "6d6cdae3",
   "metadata": {},
   "source": [
    "Write a function that calculates the difference in days between two given dates using the datetime module."
   ]
  },
  {
   "cell_type": "code",
   "execution_count": 10,
   "id": "65c3ce92",
   "metadata": {},
   "outputs": [
    {
     "name": "stdout",
     "output_type": "stream",
     "text": [
      "9\n"
     ]
    }
   ],
   "source": [
    "from datetime import datetime\n",
    "def calc_diff(data1,date2):\n",
    "    days = (date2 - data1).days\n",
    "    return days\n",
    "date1 = datetime(2019, 1, 1)\n",
    "date2 = datetime(2019, 1, 10)\n",
    "print(calc_diff(date1, date2))"
   ]
  },
  {
   "cell_type": "markdown",
   "id": "729111d8",
   "metadata": {},
   "source": [
    "Implement a program that checks if a given year is a leap year using the calendar module."
   ]
  },
  {
   "cell_type": "code",
   "execution_count": 13,
   "id": "067716aa",
   "metadata": {},
   "outputs": [
    {
     "name": "stdout",
     "output_type": "stream",
     "text": [
      "True\n",
      "True\n",
      "False\n"
     ]
    }
   ],
   "source": [
    "import calendar\n",
    "def is_leap_year(year):\n",
    "    return calendar.isleap(year)\n",
    "print(is_leap_year(2020))\n",
    "print(is_leap_year(2024))\n",
    "print(is_leap_year(2025))"
   ]
  },
  {
   "cell_type": "markdown",
   "id": "8c4f73f2",
   "metadata": {},
   "source": [
    "Create a program that checks if a specific file exists in a given directory using the os module."
   ]
  },
  {
   "cell_type": "code",
   "execution_count": 15,
   "id": "f62123d1",
   "metadata": {},
   "outputs": [
    {
     "name": "stdout",
     "output_type": "stream",
     "text": [
      "False\n",
      "True\n"
     ]
    }
   ],
   "source": [
    "import os\n",
    "def file_exists(file):\n",
    "    return os.path.exists(file)\n",
    "print(file_exists('file.py'))\n",
    "print(file_exists('extra01.py'))"
   ]
  },
  {
   "cell_type": "markdown",
   "id": "c1b34e47",
   "metadata": {},
   "source": [
    "Write a program that uses threading to perform parallel execution of three tasks."
   ]
  },
  {
   "cell_type": "code",
   "execution_count": 25,
   "id": "954bcf1d",
   "metadata": {},
   "outputs": [
    {
     "name": "stdout",
     "output_type": "stream",
     "text": [
      "Task 03\n",
      "Task 02\n",
      "Task 01\n"
     ]
    }
   ],
   "source": [
    "def task01():\n",
    "    sleep(3)\n",
    "    print('Task 01')\n",
    "def task02():\n",
    "    sleep(2)\n",
    "    print('Task 02')\n",
    "def task03():\n",
    "    sleep(1)\n",
    "    print('Task 03')\n",
    "\n",
    "\n",
    "import threading\n",
    "thread1 = threading.Thread(target=task01)\n",
    "thread2 = threading.Thread(target=task02)\n",
    "thread3 = threading.Thread(target=task03)\n",
    "\n",
    "thread1.start()\n",
    "thread2.start()\n",
    "thread3.start()\n"
   ]
  },
  {
   "cell_type": "markdown",
   "id": "0fdd3e7c",
   "metadata": {},
   "source": [
    "Implement a program that downloads an image from a URL using the urllib module."
   ]
  },
  {
   "cell_type": "code",
   "execution_count": 29,
   "id": "950950d9",
   "metadata": {},
   "outputs": [
    {
     "name": "stdout",
     "output_type": "stream",
     "text": [
      "Image downloaded successfully to downloaded_image.jpg\n"
     ]
    }
   ],
   "source": [
    "import urllib.request\n",
    "\n",
    "def download_image(url, filename):\n",
    "    \"\"\"Downloads an image from the given URL and saves it to the specified filename.\"\"\"\n",
    "\n",
    "    try:\n",
    "        urllib.request.urlretrieve(url, filename)\n",
    "        print(f\"Image downloaded successfully to {filename}\")\n",
    "    except Exception as e:\n",
    "        print(f\"Error downloading image: {e}\")\n",
    "\n",
    "# Example usage:\n",
    "image_url = \"data:image/png;base64,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\"  # Replace with the actual image URL\n",
    "filename = \"flag.jpg\"\n",
    "download_image(image_url, filename)"
   ]
  }
 ],
 "metadata": {
  "kernelspec": {
   "display_name": "Python 3 (ipykernel)",
   "language": "python",
   "name": "python3"
  },
  "language_info": {
   "codemirror_mode": {
    "name": "ipython",
    "version": 3
   },
   "file_extension": ".py",
   "mimetype": "text/x-python",
   "name": "python",
   "nbconvert_exporter": "python",
   "pygments_lexer": "ipython3",
   "version": "3.12.2"
  }
 },
 "nbformat": 4,
 "nbformat_minor": 5
}
