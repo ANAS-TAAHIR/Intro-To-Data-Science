{
 "cells": [
  {
   "cell_type": "code",
   "execution_count": 1,
   "metadata": {},
   "outputs": [],
   "source": [
    "import time\n",
    "from random import randint\n",
    "from algorithms.searching import binary, linear, interpolation, jump, exponential\n",
    "from algorithms.sorting import bubble_sort, insertion_sort, selection_sort, merge_sort, quick_sort"
   ]
  },
  {
   "cell_type": "code",
   "execution_count": 2,
   "metadata": {},
   "outputs": [],
   "source": [
    "numbers = [randint(1, 100) for i in range(5000000)]"
   ]
  },
  {
   "cell_type": "code",
   "execution_count": 3,
   "metadata": {},
   "outputs": [],
   "source": [
    "def calc_time(func, *args):\n",
    "    start = time.perf_counter()\n",
    "    func(*args)\n",
    "    end = time.perf_counter()\n",
    "    return (end - start) * 1000000  # converting time to microseconds\n"
   ]
  },
  {
   "cell_type": "markdown",
   "metadata": {},
   "source": [
    "## Analysis for searching Algorithms"
   ]
  },
  {
   "cell_type": "code",
   "execution_count": 4,
   "metadata": {},
   "outputs": [
    {
     "name": "stdout",
     "output_type": "stream",
     "text": [
      "Binary Search = 11.400028597563505\n",
      "Linear Search = 8.500006515532732\n",
      "Interpolation Search = 1.700012944638729\n",
      "Jump Search = 5.299982149153948\n",
      "Exponential Search = 4.199973773211241\n"
     ]
    }
   ],
   "source": [
    "print(\"Binary Search =\",calc_time(binary.binary_search, numbers, 5))\n",
    "print(\"Linear Search =\",calc_time(linear.linear_search, numbers, 5))\n",
    "print(\"Interpolation Search =\",calc_time(interpolation.interpolation_search, numbers, 5))\n",
    "print(\"Jump Search =\",calc_time(jump.jump_search, numbers, 5))\n",
    "print(\"Exponential Search =\",calc_time(exponential.exponential_search, numbers, 5))"
   ]
  },
  {
   "cell_type": "markdown",
   "metadata": {},
   "source": [
    "## Analysis for sorting Algorithms"
   ]
  },
  {
   "cell_type": "code",
   "execution_count": 5,
   "metadata": {},
   "outputs": [],
   "source": [
    "numbers2 = [randint(1, 100) for i in range(50000)]   # Sorting algos are taking too much time for 5000000 elements"
   ]
  },
  {
   "cell_type": "code",
   "execution_count": 7,
   "metadata": {},
   "outputs": [
    {
     "name": "stdout",
     "output_type": "stream",
     "text": [
      "Bubble Sort = 142065015.70000547\n"
     ]
    }
   ],
   "source": [
    "print(\"Bubble Sort =\",calc_time(bubble_sort.bubble_sort, numbers2))"
   ]
  },
  {
   "cell_type": "code",
   "execution_count": 8,
   "metadata": {},
   "outputs": [
    {
     "name": "stdout",
     "output_type": "stream",
     "text": [
      "Insertion Sort = 11679.39999140799\n"
     ]
    }
   ],
   "source": [
    "print(\"Insertion Sort =\",calc_time(insertion_sort.insertion_sort, numbers2))"
   ]
  },
  {
   "cell_type": "code",
   "execution_count": 9,
   "metadata": {},
   "outputs": [
    {
     "name": "stdout",
     "output_type": "stream",
     "text": [
      "Selection Sort = 110448522.09999226\n"
     ]
    }
   ],
   "source": [
    "print(\"Selection Sort =\",calc_time(selection_sort.selection_sort, numbers2))"
   ]
  },
  {
   "cell_type": "code",
   "execution_count": 10,
   "metadata": {},
   "outputs": [
    {
     "name": "stdout",
     "output_type": "stream",
     "text": [
      "Merge Sort = 229689.8000058718\n"
     ]
    }
   ],
   "source": [
    "print(\"Merge Sort =\",calc_time(merge_sort.merge_sort, numbers2))"
   ]
  },
  {
   "cell_type": "code",
   "execution_count": 11,
   "metadata": {},
   "outputs": [
    {
     "name": "stdout",
     "output_type": "stream",
     "text": [
      "Quick Sort = 1493310.7000542805\n"
     ]
    }
   ],
   "source": [
    "print(\"Quick Sort =\",calc_time(quick_sort.quick_sort, numbers2, 0, len(numbers2)-1))"
   ]
  }
 ],
 "metadata": {
  "kernelspec": {
   "display_name": "Python 3",
   "language": "python",
   "name": "python3"
  },
  "language_info": {
   "codemirror_mode": {
    "name": "ipython",
    "version": 3
   },
   "file_extension": ".py",
   "mimetype": "text/x-python",
   "name": "python",
   "nbconvert_exporter": "python",
   "pygments_lexer": "ipython3",
   "version": "3.12.1"
  }
 },
 "nbformat": 4,
 "nbformat_minor": 2
}
