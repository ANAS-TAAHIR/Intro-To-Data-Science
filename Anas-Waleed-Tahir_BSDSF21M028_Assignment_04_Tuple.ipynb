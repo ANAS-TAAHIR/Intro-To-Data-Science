{
 "cells": [
  {
   "cell_type": "markdown",
   "id": "1488806a",
   "metadata": {},
   "source": [
    "### Assignment-05 (Tuple)\n",
    "- Change the notebook name with your name and Roll Number.\n",
    "- Try this as your own, no chatgpt (it's for your learning)\n",
    "- after completing the assignment, submit this book on google class room."
   ]
  },
  {
   "cell_type": "markdown",
   "id": "0f49daa5",
   "metadata": {},
   "source": [
    "    Create an empty tuple and print it.\n",
    "        "
   ]
  },
  {
   "cell_type": "code",
   "execution_count": 3,
   "id": "9f34fb22",
   "metadata": {},
   "outputs": [
    {
     "name": "stdout",
     "output_type": "stream",
     "text": [
      "()\n"
     ]
    }
   ],
   "source": [
    "tup1 = ()\n",
    "print(tup1)"
   ]
  },
  {
   "cell_type": "markdown",
   "id": "e043fa87",
   "metadata": {},
   "source": [
    "    Create a tuple of your favorite fruits and print it.\n"
   ]
  },
  {
   "cell_type": "code",
   "execution_count": 4,
   "id": "a8075e3e",
   "metadata": {},
   "outputs": [
    {
     "name": "stdout",
     "output_type": "stream",
     "text": [
      "('apple', 'banana', 'cherry')\n"
     ]
    }
   ],
   "source": [
    "fruits = ('apple', 'banana', 'cherry')\n",
    "print(fruits)"
   ]
  },
  {
   "cell_type": "markdown",
   "id": "63103aae",
   "metadata": {},
   "source": [
    "    Create a tuple that includes a mix of data types (integers, strings, floats).\n",
    "  "
   ]
  },
  {
   "cell_type": "code",
   "execution_count": 5,
   "id": "02d21498",
   "metadata": {},
   "outputs": [
    {
     "name": "stdout",
     "output_type": "stream",
     "text": [
      "('str', True, 1, 2.0)\n"
     ]
    }
   ],
   "source": [
    "tup2 = (\"str\",True, 1, 2.0)\n",
    "print(tup2)"
   ]
  },
  {
   "cell_type": "markdown",
   "id": "704e22bb",
   "metadata": {},
   "source": [
    "  Access the first element of a tuple.\n"
   ]
  },
  {
   "cell_type": "code",
   "execution_count": 6,
   "id": "bf90e463",
   "metadata": {},
   "outputs": [
    {
     "data": {
      "text/plain": [
       "'apple'"
      ]
     },
     "execution_count": 6,
     "metadata": {},
     "output_type": "execute_result"
    }
   ],
   "source": [
    "fruits[0]"
   ]
  },
  {
   "cell_type": "markdown",
   "id": "26563419",
   "metadata": {},
   "source": [
    "    Access the last element of a tuple."
   ]
  },
  {
   "cell_type": "code",
   "execution_count": 7,
   "id": "54b98b3a",
   "metadata": {},
   "outputs": [
    {
     "data": {
      "text/plain": [
       "'cherry'"
      ]
     },
     "execution_count": 7,
     "metadata": {},
     "output_type": "execute_result"
    }
   ],
   "source": [
    "fruits[-1]"
   ]
  },
  {
   "cell_type": "markdown",
   "id": "15d49e96",
   "metadata": {},
   "source": [
    "Access the second and third elements of a tuple.\n"
   ]
  },
  {
   "cell_type": "code",
   "execution_count": 8,
   "id": "1b8f2886",
   "metadata": {},
   "outputs": [
    {
     "name": "stdout",
     "output_type": "stream",
     "text": [
      "banana cherry\n"
     ]
    }
   ],
   "source": [
    "print(fruits[1],fruits[2])"
   ]
  },
  {
   "cell_type": "markdown",
   "id": "069741b2",
   "metadata": {},
   "source": [
    "\n",
    "    Slice a tuple to extract the first three elements.\n",
    "    "
   ]
  },
  {
   "cell_type": "code",
   "execution_count": 9,
   "id": "ba3f17f2",
   "metadata": {},
   "outputs": [
    {
     "data": {
      "text/plain": [
       "('str', True, 1)"
      ]
     },
     "execution_count": 9,
     "metadata": {},
     "output_type": "execute_result"
    }
   ],
   "source": [
    "tup2[:3]"
   ]
  },
  {
   "cell_type": "markdown",
   "id": "f5f8af36",
   "metadata": {},
   "source": [
    "Slice a tuple to extract the last three elements.\n",
    " "
   ]
  },
  {
   "cell_type": "code",
   "execution_count": 11,
   "id": "72b61419",
   "metadata": {},
   "outputs": [
    {
     "data": {
      "text/plain": [
       "('str', True, 1)"
      ]
     },
     "execution_count": 11,
     "metadata": {},
     "output_type": "execute_result"
    }
   ],
   "source": [
    "tup2[len(tup2)-4:len(tup2)-1]"
   ]
  },
  {
   "cell_type": "markdown",
   "id": "fbf3a8e6",
   "metadata": {},
   "source": [
    "   Slice a tuple to get every second element.\n"
   ]
  },
  {
   "cell_type": "code",
   "execution_count": 12,
   "id": "2f28222b",
   "metadata": {},
   "outputs": [
    {
     "data": {
      "text/plain": [
       "('str', 1)"
      ]
     },
     "execution_count": 12,
     "metadata": {},
     "output_type": "execute_result"
    }
   ],
   "source": [
    "tup2[::2]"
   ]
  },
  {
   "cell_type": "markdown",
   "id": "972a3d7e",
   "metadata": {},
   "source": [
    "    Reverse a tuple using slicing."
   ]
  },
  {
   "cell_type": "code",
   "execution_count": 13,
   "id": "a0c026b2",
   "metadata": {},
   "outputs": [
    {
     "data": {
      "text/plain": [
       "(2.0, 1, True, 'str')"
      ]
     },
     "execution_count": 13,
     "metadata": {},
     "output_type": "execute_result"
    }
   ],
   "source": [
    "tup2[::-1]"
   ]
  },
  {
   "cell_type": "markdown",
   "id": "ff819f8c",
   "metadata": {},
   "source": [
    "Create two tuples and concatenate them.\n",
    "\n"
   ]
  },
  {
   "cell_type": "code",
   "execution_count": 14,
   "id": "34bb1253",
   "metadata": {},
   "outputs": [
    {
     "name": "stdout",
     "output_type": "stream",
     "text": [
      "('apple', 'banana', 'cherry', 'str', True, 1, 2.0)\n"
     ]
    }
   ],
   "source": [
    "tup3 = fruits + tup2\n",
    "print(tup3)"
   ]
  },
  {
   "cell_type": "markdown",
   "id": "6f81c447",
   "metadata": {},
   "source": [
    "    Repeat a tuple multiple times using the repetition operator."
   ]
  },
  {
   "cell_type": "code",
   "execution_count": 15,
   "id": "a7993e54",
   "metadata": {},
   "outputs": [
    {
     "data": {
      "text/plain": [
       "('apple',\n",
       " 'banana',\n",
       " 'cherry',\n",
       " 'apple',\n",
       " 'banana',\n",
       " 'cherry',\n",
       " 'apple',\n",
       " 'banana',\n",
       " 'cherry')"
      ]
     },
     "execution_count": 15,
     "metadata": {},
     "output_type": "execute_result"
    }
   ],
   "source": [
    "fruits*3"
   ]
  },
  {
   "cell_type": "markdown",
   "id": "e39bdb1d",
   "metadata": {},
   "source": [
    "Find the index of a specific element in a tuple using the index() method."
   ]
  },
  {
   "cell_type": "code",
   "execution_count": 16,
   "id": "d0887521",
   "metadata": {},
   "outputs": [
    {
     "data": {
      "text/plain": [
       "1"
      ]
     },
     "execution_count": 16,
     "metadata": {},
     "output_type": "execute_result"
    }
   ],
   "source": [
    "fruits.index('banana')"
   ]
  },
  {
   "cell_type": "markdown",
   "id": "fc66ca7e",
   "metadata": {},
   "source": [
    "    Count the number of occurrences of a specific element in a tuple using the count() method."
   ]
  },
  {
   "cell_type": "code",
   "execution_count": 17,
   "id": "d9bf2831",
   "metadata": {},
   "outputs": [
    {
     "data": {
      "text/plain": [
       "1"
      ]
     },
     "execution_count": 17,
     "metadata": {},
     "output_type": "execute_result"
    }
   ],
   "source": [
    "fruits.count('banana')"
   ]
  },
  {
   "cell_type": "markdown",
   "id": "9bdef970",
   "metadata": {},
   "source": [
    "Sort a tuple of numbers in ascending order.\n",
    "\n"
   ]
  },
  {
   "cell_type": "code",
   "execution_count": 22,
   "id": "326fca51",
   "metadata": {},
   "outputs": [
    {
     "data": {
      "text/plain": [
       "(1, 1, 2, 4, 7, 8)"
      ]
     },
     "execution_count": 22,
     "metadata": {},
     "output_type": "execute_result"
    }
   ],
   "source": [
    "numbers = (2,7,4,1,8,1)\n",
    "tuple(sorted(numbers))"
   ]
  },
  {
   "cell_type": "markdown",
   "id": "2b1d9be5",
   "metadata": {},
   "source": [
    "    Sort a tuple of strings in alphabetical order."
   ]
  },
  {
   "cell_type": "code",
   "execution_count": 21,
   "id": "5b0a511f",
   "metadata": {},
   "outputs": [
    {
     "data": {
      "text/plain": [
       "('apple', 'banana', 'cherry')"
      ]
     },
     "execution_count": 21,
     "metadata": {},
     "output_type": "execute_result"
    }
   ],
   "source": [
    "tuple(sorted(fruits))"
   ]
  },
  {
   "cell_type": "markdown",
   "id": "0393ae63",
   "metadata": {},
   "source": [
    "Sort a tuple of tuples based on the second element of each inner tuple."
   ]
  },
  {
   "cell_type": "code",
   "execution_count": 24,
   "id": "5b0d33fd",
   "metadata": {},
   "outputs": [
    {
     "data": {
      "text/plain": [
       "((1, 0), (2, 3), (56, 5), (2, 9), (8, 9), (5, 67))"
      ]
     },
     "execution_count": 24,
     "metadata": {},
     "output_type": "execute_result"
    }
   ],
   "source": [
    "tup4 = ((2,9),(56,5),(5,67),(8,9),(1,0),(2,3))\n",
    "tuple(sorted(tup4, key=lambda x: x[1]))"
   ]
  },
  {
   "cell_type": "markdown",
   "id": "65b8f449",
   "metadata": {},
   "source": [
    "Compare two tuples to see if they are equal in both value and identity."
   ]
  },
  {
   "cell_type": "code",
   "execution_count": 25,
   "id": "e09a6135",
   "metadata": {},
   "outputs": [
    {
     "name": "stdout",
     "output_type": "stream",
     "text": [
      "True\n",
      "False\n"
     ]
    }
   ],
   "source": [
    "tup5 = ('z','t','a','x')\n",
    "tup6 = ('z','t','a','x')\n",
    "print(tup5 == tup6)\n",
    "print(tup5 is tup6)"
   ]
  },
  {
   "cell_type": "markdown",
   "id": "0810cc18",
   "metadata": {},
   "source": [
    "Create a shallow copy of a tuple and observe the effects of modifying one of the tuples.\n",
    "\n"
   ]
  },
  {
   "cell_type": "code",
   "execution_count": 29,
   "id": "426bacd6",
   "metadata": {},
   "outputs": [
    {
     "name": "stdout",
     "output_type": "stream",
     "text": [
      "('z', 't', 'a', 'x')\n",
      "('b', 't', 'a', 'x')\n"
     ]
    }
   ],
   "source": [
    "from copy import copy, deepcopy\n",
    "tup6 = copy(tup5)\n",
    "tup6 = list(tup6)\n",
    "tup6[0] = 'b'\n",
    "tup6 = tuple(tup6)\n",
    "print(tup5)\n",
    "print(tup6)"
   ]
  },
  {
   "cell_type": "markdown",
   "id": "f14455c5",
   "metadata": {},
   "source": [
    "    Create a deep copy of a nested tuple and observe the effects of modifying one of the tuples.\n"
   ]
  },
  {
   "cell_type": "code",
   "execution_count": 34,
   "id": "4564c764",
   "metadata": {},
   "outputs": [
    {
     "name": "stdout",
     "output_type": "stream",
     "text": [
      "((2, 9), (56, 5), (5, 67), (8, 9), (1, 0), (2, 3))\n",
      "((19898, 9), (56, 5), (5, 67), (8, 9), (1, 0), (2, 3))\n"
     ]
    }
   ],
   "source": [
    "tup7 = deepcopy(tup4)\n",
    "tup7 = list(tup7)\n",
    "tup7[0] = list(tup7[0])\n",
    "tup7[0][0] = 19898\n",
    "tup7[0] = tuple(tup7[0])\n",
    "tup7 = tuple(tup7)\n",
    "print(tup4)\n",
    "print(tup7)"
   ]
  },
  {
   "cell_type": "markdown",
   "id": "b01879a0",
   "metadata": {},
   "source": [
    "    Pickle a tuple and save it to a file.\n"
   ]
  },
  {
   "cell_type": "code",
   "execution_count": 41,
   "id": "55ddfbd4",
   "metadata": {},
   "outputs": [],
   "source": [
    "import pickle\n",
    "pickle.dump(tup7,open('tuple.pkl',\"wb\"))\n",
    "\n"
   ]
  },
  {
   "cell_type": "markdown",
   "id": "6874f46a",
   "metadata": {},
   "source": [
    "    Unpickle a tuple from a file and display its content."
   ]
  },
  {
   "cell_type": "code",
   "execution_count": 42,
   "id": "02f8549f",
   "metadata": {},
   "outputs": [
    {
     "name": "stdout",
     "output_type": "stream",
     "text": [
      "((19898, 9), (56, 5), (5, 67), (8, 9), (1, 0), (2, 3))\n"
     ]
    }
   ],
   "source": [
    "tup8 = pickle.load(open('tuple.pkl',\"rb\"))\n",
    "print(tup8)"
   ]
  }
 ],
 "metadata": {
  "kernelspec": {
   "display_name": "Python 3 (ipykernel)",
   "language": "python",
   "name": "python3"
  },
  "language_info": {
   "codemirror_mode": {
    "name": "ipython",
    "version": 3
   },
   "file_extension": ".py",
   "mimetype": "text/x-python",
   "name": "python",
   "nbconvert_exporter": "python",
   "pygments_lexer": "ipython3",
   "version": "3.12.2"
  }
 },
 "nbformat": 4,
 "nbformat_minor": 5
}
